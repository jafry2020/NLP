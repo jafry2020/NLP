{
 "cells": [
  {
   "cell_type": "markdown",
   "metadata": {
    "id": "11_QtarKSjPf"
   },
   "source": [
    "### Fundamentals of Natural Language Processing: Assignment 1 Spring 2024"
   ]
  },
  {
   "cell_type": "markdown",
   "metadata": {
    "id": "0S_p54xNSTq_"
   },
   "source": [
    "##### This is demo program which give you idea about how to start  your assignment."
   ]
  },
  {
   "cell_type": "markdown",
   "metadata": {
    "id": "YZ83jAJ3S-uR"
   },
   "source": [
    "#### Compute Accuracy and Print Results "
   ]
  },
  {
   "cell_type": "markdown",
   "metadata": {
    "id": "vKNCVwN9uiGo"
   },
   "source": [
    "##### Your Sentence Segmentation Code"
   ]
  },
  {
   "cell_type": "code",
   "execution_count": null,
   "metadata": {
    "id": "1QaiI5i1uiGo"
   },
   "outputs": [],
   "source": []
  },
  {
   "cell_type": "code",
   "execution_count": 2,
   "metadata": {},
   "outputs": [
    {
     "name": "stderr",
     "output_type": "stream",
     "text": [
      "[nltk_data] Downloading package punkt to\n",
      "[nltk_data]     C:\\Users\\dell\\AppData\\Roaming\\nltk_data...\n",
      "[nltk_data]   Package punkt is already up-to-date!\n"
     ]
    },
    {
     "data": {
      "text/plain": [
       "True"
      ]
     },
     "execution_count": 2,
     "metadata": {},
     "output_type": "execute_result"
    }
   ],
   "source": [
    "import pandas as pd\n",
    "import csv\n",
    "import nltk \n",
    "import re\n",
    "from nltk.util import ngrams\n",
    "nltk.download('punkt')"
   ]
  },
  {
   "cell_type": "code",
   "execution_count": 3,
   "metadata": {},
   "outputs": [],
   "source": [
    "def read_txt(file_name):\n",
    "    with open(file_name, 'rt', encoding=\"utf-8\") as f:\n",
    "        reader = csv.reader(f)\n",
    "        passage = list(reader)\n",
    "        f.close()\n",
    "    return passage[0][0]\n",
    "    "
   ]
  },
  {
   "cell_type": "markdown",
   "metadata": {},
   "source": [
    "Preprocessing corpus"
   ]
  },
  {
   "cell_type": "code",
   "execution_count": 4,
   "metadata": {},
   "outputs": [
    {
     "data": {
      "text/plain": [
       "'گزشتہ کئی سالوں سے مختلف بحران آتے جاتے رہے لیکن حالیہ آٹا ، چینی سمیت دیگر بحران اچانک پید ا ہوئے اور ان پر جے آئی ٹی تشکیل دے دیں گئیں تاکہ عوام کو ریلیف دیا جاسکے دوسری جانب بجلی ، گیس ، پانی سمیت دیگر بلوں میں کئی سو گنا اضافہ کردیا گیا ،صوبائی و وفاقی وزراء نے اپنے اپنے ایوانوں بحران کے ذمہ دار عناصر کو بے نقاب کرنے کے بجائے سب اچھاہے کی رپورٹ پیش کیں ساتھ ہی اورنگزیب کی طرح جواب دیا، حقائق کی ’’قبر ذرا گہری کھودنا!‘‘ تاریخی گواہ ہے بقول ماہرین ، مبصرین اور صحافیوں کا کہنا اور لکھنا ہے کہ پگڑی بدل بھائی کی رسم کی آڑ میں نادر شاہ نے محمد شاہ رنگیلا سے کوہِ نور ہیرا حاصل کیا تھا 12 مئی 1739 کی شام دہلی میں زبردست چہل پہل، شاہجہان آباد میں چراغاں اور لال قلعے میں جشن کا سماں ہے غریبوں میں شربت، پان اور کھانا تقسیم کیا جا رہا ہے، فقیروں، گداؤں کو جھولی بھر بھر کر روپے عطا ہو رہے ہیں آج دربار میں ایرانی بادشاہ نادر شاہ کے سامنے مغلیہ سلطنت کے 13ویں تاجدار محمد شاہ بیٹھے ہیں، لیکن اس وقت ان کے سر پر شاہی تاج نہیں ہے، کیوں نادر شاہ نے ڈھائی ماہ قبل ان سے سلطنت چھین لی تھی 56 دن دہلی میں رہنے کے بعد اب نادر شاہ کے واپس ایران لوٹنے کا وقت آ گیا ہے اور وہ ہندوستان کی باگ ڈور دوبارہ سے محمد شاہ کے حوالے کرنا چاہتا ہے نادر شاہ نے صدیوں سے جمع کردہ مغل خزانے میں جھاڑو پھیر دی ہے اور شہر کے تمام امرا و روسا کی جیبیں الٹا لی ہیں، لیکن اسے دہلی کی ایک طوائف نور بائی نے، جس کا ذکر آگے چل کر آئے گا، خفیہ طور پر بتا دیا ہے کہ یہ سب کچھ جو تم نے حاصل کیا ہے، وہ ایسی چیز کے آگے ہیچ ہے جسے محمد شاہ نے اپنی پگڑی میں چھپا رکھا ہے نادر شاہ گھاگ سیاستدان اور گھاٹ گھاٹ کا پانی پیے ہوئے تھا اس موقعے پر وہ چال چلی جسے نہلے پہ دہلا کہا جاتا ہے اس نے محمد شاہ سے کہا، ’’ایران میں رسم چلی آتی ہے کہ بھائی خوشی کے موقعے پر آپس میں پگڑیاں بدل دیتے ہیں، آج سے ہم بھائی بھائی بن گئے ہیں، تو کیوں نہ اسی رسم کا اعادہ کیا جائے؟‘‘ محمد شاہ کے پاس سر جھکانے کے علاوہ کوئی چارہ نہیں تھا نادر شاہ نے اپنی پگڑی اتار کر اس کے سر رکھی، اور اس کی پگڑی اپنے سر، اور یوں دنیا کا مشہور ترین ہیرا کوہِ نور ہندوستان سے نکل کر ایران پہنچ گیا رنگیلا بادشاہ)اس ہیرے کے مالک محمد شاہ اپنے پڑدادا اورنگزیب عالمگیر کے دورِ حکومت میں 1702 میں پیدا ہوئے تھے ان کا پیدائشی نام تو روشن اختر تھا، تاہم 29 ستمبر 1719 کو بادشاہ گر سید برادران نے انھیں صرف 17 برس کی عمر میں سلطنت تیموریہ کے تخت پر بٹھانے کے بعد ابوالفتح نصیر الدین روشن اختر محمد شاہ کا خطاب دیا خود ان کا تخلص ’’سدا رنگیلا‘‘ تھا اتنا لمبا نام کون یاد رکھتا، چنانچہ عوام نے دونوں کو ملا کر محمد شاہ رنگیلا کر دیا اور وہ آج تک ہندوستان کے طول و عرض میں اسی نام سے جانے اور مانے جاتے ہیں اورنگزیب عالمگیر نے ہندوستان میں ایک خاص قسم کا کٹر اسلام نافذ کر رکھا تھا محمد شاہ کی پیدائش کے وقت اورنگزیب عالمگیر نے ہندوستان میں ایک خاص قسم کا کٹر اسلام نافذ کر رکھا تھا اس کا سب سے پہلا نشانہ وہ فنونِ لطیفہ بنے جن کے بارے میں تصور تھا کہ وہ اسلامی اصولوں سے مطابقت نہیں رکھتے اس کی ایک دلچسپ مثال اطالوی سیاح نکولو منوچی نے لکھی ہے وہ کہتے ہیں کہ اورنگزیبی دور میں جب موسیقی پر پابندی لگی تو گویوں اور موسیقاروں کی روٹی روزی بند ہو گئی آخر تنگ آ کر ایک ہزار فنکاروں نے جمعے کے دن دہلی کی جامع مسجد سے ایک جلوس نکالا اور آلات موسیقی کو جنازوں کی شکل میں لے کر روتے پیٹتے گزرنے لگے اورنگزیب نے دیکھا تو حیرت زدہ ہو کر پچھوایا، یہ کس کا جنازہ لیے جا رہے ہو جس کی خاطر اس قدر آہ و بکا کیا جا رہا ہے؟’’ انھوں نے کہا: ‘‘آپ نے موسیقی قتل کر دی ہے اسے دفنانے جا رہے ہیں اورنگزیب نے جواب دیا، ’’قبر ذرا گہری کھودنا!‘‘طبیعیات کا اصول ہے کہ ہر عمل کا ردِ عمل ہوتا ہے یہی اصول تاریخ اور انسانی معاشرت پر بھی لاگو ہوتا ہے کہ جس چیز کو جتنی سختی سے دبایا جائے، وہ اتنی ہی قوت سے ابھر کر سامنے آتی ہے چنانچہ اورنگزیب کے بعد بھی یہی کچھ ہوا اور محمد شاہ کے دور میں وہ تمام فنون پوری آب و تاب سے سامنے آ گئے جو اس سے پہلے دب گئے تھے \\t\\tسب اچھاہے ،حقائق کی قبر ذرا گہری کھودنا'"
      ]
     },
     "execution_count": 4,
     "metadata": {},
     "output_type": "execute_result"
    }
   ],
   "source": [
    "t1 = read_txt(\"urdu-corpus.txt\")\n",
    "t1"
   ]
  },
  {
   "cell_type": "code",
   "execution_count": 113,
   "metadata": {},
   "outputs": [],
   "source": [
    "t1 = t1.replace('\\t', '')\n",
    "new = re.sub(r'[^\\w\\s.،]', '', t1)\n",
    "new = new.replace('،', '-').replace('-', ' - ')\n",
    "tokens  = nltk.word_tokenize(new)\n",
    "new = ' '.join(tokens)"
   ]
  },
  {
   "cell_type": "code",
   "execution_count": 114,
   "metadata": {},
   "outputs": [],
   "source": [
    "bigram = list(ngrams(tokens, 2))\n",
    "trigram = list(ngrams(tokens, 3))\n",
    "quadgram = list(ngrams(tokens, 4))"
   ]
  },
  {
   "cell_type": "markdown",
   "metadata": {},
   "source": [
    "model "
   ]
  },
  {
   "cell_type": "code",
   "execution_count": 177,
   "metadata": {},
   "outputs": [],
   "source": [
    "test = read_txt(\"sent-test.txt\")\n",
    "test_tokens = nltk.word_tokenize(test)\n",
    "test_text = ' '.join(test_tokens)"
   ]
  },
  {
   "cell_type": "markdown",
   "metadata": {},
   "source": [
    "`using probability (not the best way)`"
   ]
  },
  {
   "cell_type": "code",
   "execution_count": 171,
   "metadata": {},
   "outputs": [],
   "source": [
    "def cond_prob(start):\n",
    "    eos = '-'\n",
    "    denum = []\n",
    "    nenum = []\n",
    "\n",
    "    for i in bigram:\n",
    "        if (i[0] == start and i[1] == eos):\n",
    "            denum.append(i)\n",
    "    \n",
    "    for i in bigram:\n",
    "        if i[0] == start:\n",
    "            nenum.append(i)\n",
    "\n",
    "    prob = len(denum)/(len(nenum)+1)\n",
    "    if prob > 0.5:\n",
    "        return True\n",
    "    else:\n",
    "        return False"
   ]
  },
  {
   "cell_type": "code",
   "execution_count": 172,
   "metadata": {},
   "outputs": [],
   "source": [
    "for i in test_tokens:\n",
    "    if(cond_prob(i)):\n",
    "        print(i)"
   ]
  },
  {
   "cell_type": "markdown",
   "metadata": {},
   "source": [
    "`Using bigram rule`"
   ]
  },
  {
   "cell_type": "code",
   "execution_count": 225,
   "metadata": {},
   "outputs": [],
   "source": [
    "def bigram_rule():\n",
    "    eos_rules = []\n",
    "    for i in bigram:\n",
    "        if i[1] == '-':\n",
    "            eos_rules.append(i)\n",
    "            \n",
    "    temp = []\n",
    "    for i in range(len(eos_rules)):\n",
    "        tuple = eos_rules[i]\n",
    "        for j in range(len(eos_rules)):\n",
    "            if i!=j:\n",
    "                if tuple == eos_rules[j]:\n",
    "                    temp.append(tuple)\n",
    "                    continue\n",
    "    return list(set(temp))"
   ]
  },
  {
   "cell_type": "code",
   "execution_count": 242,
   "metadata": {},
   "outputs": [
    {
     "data": {
      "text/plain": [
       "'عقل خان کے مطابق اس خوبصورت چراگاہ کو کنڈیل شئی بانال کہا جاتا ہے - کنڈیل شئی بانال کے اس خوبصورت میدان کو اگر سویٹزرلینڈ کے کسی ہرے بھرے میدانی علاقے سے تشبیہہ دی جائے تو کچھ غلط نہیں ہوگا میدان میں داخل ہوتے ہی کچھ دیر آرام کرنے کی میری خواہش پر سب نے لبیک کہا ایسا لگا جیسے ان کی دل کی بات میرے لبوں سے ادا ہوئی ہو۔'"
      ]
     },
     "execution_count": 242,
     "metadata": {},
     "output_type": "execute_result"
    }
   ],
   "source": [
    "temp = []\n",
    "for i in bigram_rule():\n",
    "    temp.append(i[0])\n",
    "    \n",
    "test = []\n",
    "for i in test_tokens:\n",
    "    test.append(i)\n",
    "    if i in temp:\n",
    "        test.append('-')\n",
    "' '.join(test)"
   ]
  },
  {
   "cell_type": "markdown",
   "metadata": {},
   "source": [
    "`using bigram 2`"
   ]
  },
  {
   "cell_type": "code",
   "execution_count": 243,
   "metadata": {},
   "outputs": [
    {
     "data": {
      "text/plain": [
       "'عقل خان کے مطابق اس خوبصورت چراگاہ کو کنڈیل شئی بانال کہا - جاتا ہے - کنڈیل شئی بانال کے اس خوبصورت میدان کو اگر سویٹزرلینڈ کے کسی ہرے بھرے میدانی علاقے سے تشبیہہ دی جائے - تو کچھ غلط نہیں ہوگا میدان میں داخل ہوتے ہی کچھ دیر آرام کرنے کی میری خواہش پر سب نے - لبیک کہا - ایسا لگا جیسے ان کی دل کی بات میرے لبوں سے ادا ہوئی ہو۔'"
      ]
     },
     "execution_count": 243,
     "metadata": {},
     "output_type": "execute_result"
    }
   ],
   "source": [
    "def bigram2_rule():\n",
    "    eos_rules = []\n",
    "    for i in bigram:\n",
    "        if i[1] == '-':\n",
    "            eos_rules.append(i)\n",
    "    return list(set(eos_rules))\n",
    "                       \n",
    "temp = []\n",
    "for i in bigram2_rule():\n",
    "    temp.append(i[0])\n",
    "    \n",
    "test = []\n",
    "for i in test_tokens:\n",
    "    test.append(i)\n",
    "    if i in temp:\n",
    "        test.append('-')\n",
    "' '.join(test)"
   ]
  },
  {
   "cell_type": "code",
   "execution_count": null,
   "metadata": {},
   "outputs": [],
   "source": []
  }
 ],
 "metadata": {
  "colab": {
   "provenance": []
  },
  "kernelspec": {
   "display_name": "Python 3 (ipykernel)",
   "language": "python",
   "name": "python3"
  },
  "language_info": {
   "codemirror_mode": {
    "name": "ipython",
    "version": 3
   },
   "file_extension": ".py",
   "mimetype": "text/x-python",
   "name": "python",
   "nbconvert_exporter": "python",
   "pygments_lexer": "ipython3",
   "version": "3.12.2"
  }
 },
 "nbformat": 4,
 "nbformat_minor": 4
}
